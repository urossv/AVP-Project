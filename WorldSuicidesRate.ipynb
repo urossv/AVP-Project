{
 "cells": [
  {
   "cell_type": "markdown",
   "metadata": {},
   "source": [
    "                                                Uvod\n",
    "   Ovaj rad će koristiti podatke o stopama suicida u svetu po godinama na osnovu čega će se pokušati odgovoriti na određena istraživačka pitanja koja su definisan dalje u tekstu. Na početku, dataset će se srediti na taj način ne bi li omogućio lakšu dalju analizu, potom će se pristupiti njegovom istraživanju ne bi li se bolje upoznali sa podacima. Nakon toga slede istraživačka pitanja i na samom kraju rada, kad se odgovori na pitanja, pristupiće se modelovanju podataka da bi videli da li možemo da predviđamo stopu suicida na osnovu dostupnih podataka u ovom datasetu. "
   ]
  },
  {
   "cell_type": "code",
   "execution_count": 1,
   "metadata": {
    "scrolled": true
   },
   "outputs": [
    {
     "data": {
      "text/html": [
       "<table>\n",
       "<caption>A data.frame: 6 × 12</caption>\n",
       "<thead>\n",
       "\t<tr><th></th><th scope=col>ď.żcountry</th><th scope=col>year</th><th scope=col>sex</th><th scope=col>age</th><th scope=col>suicides_no</th><th scope=col>population</th><th scope=col>suicides.100k.pop</th><th scope=col>country.year</th><th scope=col>HDI.for.year</th><th scope=col>gdp_for_year....</th><th scope=col>gdp_per_capita....</th><th scope=col>generation</th></tr>\n",
       "\t<tr><th></th><th scope=col>&lt;chr&gt;</th><th scope=col>&lt;int&gt;</th><th scope=col>&lt;chr&gt;</th><th scope=col>&lt;chr&gt;</th><th scope=col>&lt;int&gt;</th><th scope=col>&lt;int&gt;</th><th scope=col>&lt;dbl&gt;</th><th scope=col>&lt;chr&gt;</th><th scope=col>&lt;dbl&gt;</th><th scope=col>&lt;chr&gt;</th><th scope=col>&lt;int&gt;</th><th scope=col>&lt;chr&gt;</th></tr>\n",
       "</thead>\n",
       "<tbody>\n",
       "\t<tr><th scope=row>1</th><td>Albania</td><td>1987</td><td>male  </td><td>15-24 years</td><td>21</td><td>312900</td><td>6.71</td><td>Albania1987</td><td>NA</td><td>2,156,624,900</td><td>796</td><td>Generation X   </td></tr>\n",
       "\t<tr><th scope=row>2</th><td>Albania</td><td>1987</td><td>male  </td><td>35-54 years</td><td>16</td><td>308000</td><td>5.19</td><td>Albania1987</td><td>NA</td><td>2,156,624,900</td><td>796</td><td>Silent         </td></tr>\n",
       "\t<tr><th scope=row>3</th><td>Albania</td><td>1987</td><td>female</td><td>15-24 years</td><td>14</td><td>289700</td><td>4.83</td><td>Albania1987</td><td>NA</td><td>2,156,624,900</td><td>796</td><td>Generation X   </td></tr>\n",
       "\t<tr><th scope=row>4</th><td>Albania</td><td>1987</td><td>male  </td><td>75+ years  </td><td> 1</td><td> 21800</td><td>4.59</td><td>Albania1987</td><td>NA</td><td>2,156,624,900</td><td>796</td><td>G.I. Generation</td></tr>\n",
       "\t<tr><th scope=row>5</th><td>Albania</td><td>1987</td><td>male  </td><td>25-34 years</td><td> 9</td><td>274300</td><td>3.28</td><td>Albania1987</td><td>NA</td><td>2,156,624,900</td><td>796</td><td>Boomers        </td></tr>\n",
       "\t<tr><th scope=row>6</th><td>Albania</td><td>1987</td><td>female</td><td>75+ years  </td><td> 1</td><td> 35600</td><td>2.81</td><td>Albania1987</td><td>NA</td><td>2,156,624,900</td><td>796</td><td>G.I. Generation</td></tr>\n",
       "</tbody>\n",
       "</table>\n"
      ],
      "text/latex": [
       "A data.frame: 6 × 12\n",
       "\\begin{tabular}{r|llllllllllll}\n",
       "  & ď.żcountry & year & sex & age & suicides\\_no & population & suicides.100k.pop & country.year & HDI.for.year & gdp\\_for\\_year.... & gdp\\_per\\_capita.... & generation\\\\\n",
       "  & <chr> & <int> & <chr> & <chr> & <int> & <int> & <dbl> & <chr> & <dbl> & <chr> & <int> & <chr>\\\\\n",
       "\\hline\n",
       "\t1 & Albania & 1987 & male   & 15-24 years & 21 & 312900 & 6.71 & Albania1987 & NA & 2,156,624,900 & 796 & Generation X   \\\\\n",
       "\t2 & Albania & 1987 & male   & 35-54 years & 16 & 308000 & 5.19 & Albania1987 & NA & 2,156,624,900 & 796 & Silent         \\\\\n",
       "\t3 & Albania & 1987 & female & 15-24 years & 14 & 289700 & 4.83 & Albania1987 & NA & 2,156,624,900 & 796 & Generation X   \\\\\n",
       "\t4 & Albania & 1987 & male   & 75+ years   &  1 &  21800 & 4.59 & Albania1987 & NA & 2,156,624,900 & 796 & G.I. Generation\\\\\n",
       "\t5 & Albania & 1987 & male   & 25-34 years &  9 & 274300 & 3.28 & Albania1987 & NA & 2,156,624,900 & 796 & Boomers        \\\\\n",
       "\t6 & Albania & 1987 & female & 75+ years   &  1 &  35600 & 2.81 & Albania1987 & NA & 2,156,624,900 & 796 & G.I. Generation\\\\\n",
       "\\end{tabular}\n"
      ],
      "text/markdown": [
       "\n",
       "A data.frame: 6 × 12\n",
       "\n",
       "| <!--/--> | ď.żcountry &lt;chr&gt; | year &lt;int&gt; | sex &lt;chr&gt; | age &lt;chr&gt; | suicides_no &lt;int&gt; | population &lt;int&gt; | suicides.100k.pop &lt;dbl&gt; | country.year &lt;chr&gt; | HDI.for.year &lt;dbl&gt; | gdp_for_year.... &lt;chr&gt; | gdp_per_capita.... &lt;int&gt; | generation &lt;chr&gt; |\n",
       "|---|---|---|---|---|---|---|---|---|---|---|---|---|\n",
       "| 1 | Albania | 1987 | male   | 15-24 years | 21 | 312900 | 6.71 | Albania1987 | NA | 2,156,624,900 | 796 | Generation X    |\n",
       "| 2 | Albania | 1987 | male   | 35-54 years | 16 | 308000 | 5.19 | Albania1987 | NA | 2,156,624,900 | 796 | Silent          |\n",
       "| 3 | Albania | 1987 | female | 15-24 years | 14 | 289700 | 4.83 | Albania1987 | NA | 2,156,624,900 | 796 | Generation X    |\n",
       "| 4 | Albania | 1987 | male   | 75+ years   |  1 |  21800 | 4.59 | Albania1987 | NA | 2,156,624,900 | 796 | G.I. Generation |\n",
       "| 5 | Albania | 1987 | male   | 25-34 years |  9 | 274300 | 3.28 | Albania1987 | NA | 2,156,624,900 | 796 | Boomers         |\n",
       "| 6 | Albania | 1987 | female | 75+ years   |  1 |  35600 | 2.81 | Albania1987 | NA | 2,156,624,900 | 796 | G.I. Generation |\n",
       "\n"
      ],
      "text/plain": [
       "  ď.żcountry year sex    age         suicides_no population suicides.100k.pop\n",
       "1 Albania    1987 male   15-24 years 21          312900     6.71             \n",
       "2 Albania    1987 male   35-54 years 16          308000     5.19             \n",
       "3 Albania    1987 female 15-24 years 14          289700     4.83             \n",
       "4 Albania    1987 male   75+ years    1           21800     4.59             \n",
       "5 Albania    1987 male   25-34 years  9          274300     3.28             \n",
       "6 Albania    1987 female 75+ years    1           35600     2.81             \n",
       "  country.year HDI.for.year gdp_for_year.... gdp_per_capita.... generation     \n",
       "1 Albania1987  NA           2,156,624,900    796                Generation X   \n",
       "2 Albania1987  NA           2,156,624,900    796                Silent         \n",
       "3 Albania1987  NA           2,156,624,900    796                Generation X   \n",
       "4 Albania1987  NA           2,156,624,900    796                G.I. Generation\n",
       "5 Albania1987  NA           2,156,624,900    796                Boomers        \n",
       "6 Albania1987  NA           2,156,624,900    796                G.I. Generation"
      ]
     },
     "metadata": {},
     "output_type": "display_data"
    }
   ],
   "source": [
    "df <- read.csv(\".\\\\master.csv\")\n",
    "head(df)"
   ]
  },
  {
   "cell_type": "code",
   "execution_count": 2,
   "metadata": {
    "scrolled": true
   },
   "outputs": [
    {
     "data": {
      "text/html": [
       "<table>\n",
       "<caption>A data.frame: 6 × 12</caption>\n",
       "<thead>\n",
       "\t<tr><th></th><th scope=col>country</th><th scope=col>year</th><th scope=col>sex</th><th scope=col>age</th><th scope=col>suicides.no</th><th scope=col>population</th><th scope=col>suicides.100k.pop</th><th scope=col>country.year</th><th scope=col>hdi.for.year</th><th scope=col>gdp.for.year</th><th scope=col>gdp.per.capita</th><th scope=col>generation</th></tr>\n",
       "\t<tr><th></th><th scope=col>&lt;chr&gt;</th><th scope=col>&lt;int&gt;</th><th scope=col>&lt;fct&gt;</th><th scope=col>&lt;ord&gt;</th><th scope=col>&lt;int&gt;</th><th scope=col>&lt;int&gt;</th><th scope=col>&lt;dbl&gt;</th><th scope=col>&lt;chr&gt;</th><th scope=col>&lt;dbl&gt;</th><th scope=col>&lt;dbl&gt;</th><th scope=col>&lt;int&gt;</th><th scope=col>&lt;fct&gt;</th></tr>\n",
       "</thead>\n",
       "<tbody>\n",
       "\t<tr><th scope=row>1</th><td>Albania</td><td>1987</td><td>male  </td><td>15-24 years</td><td>21</td><td>312900</td><td>6.71</td><td>Albania1987</td><td>NA</td><td>2156624900</td><td>796</td><td>Generation X   </td></tr>\n",
       "\t<tr><th scope=row>2</th><td>Albania</td><td>1987</td><td>male  </td><td>35-54 years</td><td>16</td><td>308000</td><td>5.19</td><td>Albania1987</td><td>NA</td><td>2156624900</td><td>796</td><td>Silent         </td></tr>\n",
       "\t<tr><th scope=row>3</th><td>Albania</td><td>1987</td><td>female</td><td>15-24 years</td><td>14</td><td>289700</td><td>4.83</td><td>Albania1987</td><td>NA</td><td>2156624900</td><td>796</td><td>Generation X   </td></tr>\n",
       "\t<tr><th scope=row>4</th><td>Albania</td><td>1987</td><td>male  </td><td>75+ years  </td><td> 1</td><td> 21800</td><td>4.59</td><td>Albania1987</td><td>NA</td><td>2156624900</td><td>796</td><td>G.I. Generation</td></tr>\n",
       "\t<tr><th scope=row>5</th><td>Albania</td><td>1987</td><td>male  </td><td>25-34 years</td><td> 9</td><td>274300</td><td>3.28</td><td>Albania1987</td><td>NA</td><td>2156624900</td><td>796</td><td>Boomers        </td></tr>\n",
       "\t<tr><th scope=row>6</th><td>Albania</td><td>1987</td><td>female</td><td>75+ years  </td><td> 1</td><td> 35600</td><td>2.81</td><td>Albania1987</td><td>NA</td><td>2156624900</td><td>796</td><td>G.I. Generation</td></tr>\n",
       "</tbody>\n",
       "</table>\n"
      ],
      "text/latex": [
       "A data.frame: 6 × 12\n",
       "\\begin{tabular}{r|llllllllllll}\n",
       "  & country & year & sex & age & suicides.no & population & suicides.100k.pop & country.year & hdi.for.year & gdp.for.year & gdp.per.capita & generation\\\\\n",
       "  & <chr> & <int> & <fct> & <ord> & <int> & <int> & <dbl> & <chr> & <dbl> & <dbl> & <int> & <fct>\\\\\n",
       "\\hline\n",
       "\t1 & Albania & 1987 & male   & 15-24 years & 21 & 312900 & 6.71 & Albania1987 & NA & 2156624900 & 796 & Generation X   \\\\\n",
       "\t2 & Albania & 1987 & male   & 35-54 years & 16 & 308000 & 5.19 & Albania1987 & NA & 2156624900 & 796 & Silent         \\\\\n",
       "\t3 & Albania & 1987 & female & 15-24 years & 14 & 289700 & 4.83 & Albania1987 & NA & 2156624900 & 796 & Generation X   \\\\\n",
       "\t4 & Albania & 1987 & male   & 75+ years   &  1 &  21800 & 4.59 & Albania1987 & NA & 2156624900 & 796 & G.I. Generation\\\\\n",
       "\t5 & Albania & 1987 & male   & 25-34 years &  9 & 274300 & 3.28 & Albania1987 & NA & 2156624900 & 796 & Boomers        \\\\\n",
       "\t6 & Albania & 1987 & female & 75+ years   &  1 &  35600 & 2.81 & Albania1987 & NA & 2156624900 & 796 & G.I. Generation\\\\\n",
       "\\end{tabular}\n"
      ],
      "text/markdown": [
       "\n",
       "A data.frame: 6 × 12\n",
       "\n",
       "| <!--/--> | country &lt;chr&gt; | year &lt;int&gt; | sex &lt;fct&gt; | age &lt;ord&gt; | suicides.no &lt;int&gt; | population &lt;int&gt; | suicides.100k.pop &lt;dbl&gt; | country.year &lt;chr&gt; | hdi.for.year &lt;dbl&gt; | gdp.for.year &lt;dbl&gt; | gdp.per.capita &lt;int&gt; | generation &lt;fct&gt; |\n",
       "|---|---|---|---|---|---|---|---|---|---|---|---|---|\n",
       "| 1 | Albania | 1987 | male   | 15-24 years | 21 | 312900 | 6.71 | Albania1987 | NA | 2156624900 | 796 | Generation X    |\n",
       "| 2 | Albania | 1987 | male   | 35-54 years | 16 | 308000 | 5.19 | Albania1987 | NA | 2156624900 | 796 | Silent          |\n",
       "| 3 | Albania | 1987 | female | 15-24 years | 14 | 289700 | 4.83 | Albania1987 | NA | 2156624900 | 796 | Generation X    |\n",
       "| 4 | Albania | 1987 | male   | 75+ years   |  1 |  21800 | 4.59 | Albania1987 | NA | 2156624900 | 796 | G.I. Generation |\n",
       "| 5 | Albania | 1987 | male   | 25-34 years |  9 | 274300 | 3.28 | Albania1987 | NA | 2156624900 | 796 | Boomers         |\n",
       "| 6 | Albania | 1987 | female | 75+ years   |  1 |  35600 | 2.81 | Albania1987 | NA | 2156624900 | 796 | G.I. Generation |\n",
       "\n"
      ],
      "text/plain": [
       "  country year sex    age         suicides.no population suicides.100k.pop\n",
       "1 Albania 1987 male   15-24 years 21          312900     6.71             \n",
       "2 Albania 1987 male   35-54 years 16          308000     5.19             \n",
       "3 Albania 1987 female 15-24 years 14          289700     4.83             \n",
       "4 Albania 1987 male   75+ years    1           21800     4.59             \n",
       "5 Albania 1987 male   25-34 years  9          274300     3.28             \n",
       "6 Albania 1987 female 75+ years    1           35600     2.81             \n",
       "  country.year hdi.for.year gdp.for.year gdp.per.capita generation     \n",
       "1 Albania1987  NA           2156624900   796            Generation X   \n",
       "2 Albania1987  NA           2156624900   796            Silent         \n",
       "3 Albania1987  NA           2156624900   796            Generation X   \n",
       "4 Albania1987  NA           2156624900   796            G.I. Generation\n",
       "5 Albania1987  NA           2156624900   796            Boomers        \n",
       "6 Albania1987  NA           2156624900   796            G.I. Generation"
      ]
     },
     "metadata": {},
     "output_type": "display_data"
    }
   ],
   "source": [
    "#Napraviću nov dataframe koji će predstavljati sređen prethodni dataframe\n",
    "reworked.df <- df\n",
    "\n",
    "#Potrebno je preimenovati kolone\n",
    "names(reworked.df)[1] <- \"country\"\n",
    "\n",
    "#Prvo obrisati suvišne tačke na krajevima naziva kolona\n",
    "dots.delete <- function (name){\n",
    "    return(sub(\"\\\\.{2,}\",\"\", name))\n",
    "}\n",
    "\n",
    "names(reworked.df) <- sapply(names(reworked.df), dots.delete)\n",
    "\n",
    "#Sad je potrebno promeniti \"_\" u \".\" da bi imali iste notacije u kolonama\n",
    "column.notation <- function (column){\n",
    "    return(gsub(\"_\", \".\", column))\n",
    "}\n",
    "\n",
    "names(reworked.df) <- sapply(names(reworked.df), column.notation)\n",
    "\n",
    "#Menjamo\"HDI\" u malo \"hdi\"\n",
    "names(reworked.df) <- sapply(names(reworked.df), tolower)\n",
    "\n",
    "#gdp.for.year iz string u numeric\n",
    "reworked.df$gdp.for.year <- sapply(reworked.df$gdp.for.year, function(x) {gsub(\",\", \"\", x)})\n",
    "reworked.df$gdp.for.year <- sapply(reworked.df$gdp.for.year, as.numeric)\n",
    "\n",
    "#Potrebno napraviti faktore\n",
    "reworked.df$sex <- as.factor(reworked.df$sex)\n",
    "reworked.df$age <- factor(reworked.df$age, level=c(\n",
    "\"5-14 years\", \"15-24 years\",\"25-34 years\", \"35-54 years\", \"55-74 years\", \"75+ years\"), ordered = TRUE)\n",
    "\n",
    "#unique(reworked.df$generation)\n",
    "\n",
    "reworked.df$generation <- factor(reworked.df$generation, level=c(\n",
    "\"G.I. Generation\", \"Silent\", \"Boomers\", \"Generation X\", \"Millenials\", \"Generation Z\"))\n",
    "\n",
    "head(reworked.df)"
   ]
  },
  {
   "cell_type": "code",
   "execution_count": 3,
   "metadata": {
    "scrolled": false
   },
   "outputs": [
    {
     "data": {
      "text/html": [
       "<style>\n",
       ".dl-inline {width: auto; margin:0; padding: 0}\n",
       ".dl-inline>dt, .dl-inline>dd {float: none; width: auto; display: inline-block}\n",
       ".dl-inline>dt::after {content: \":\\0020\"; padding-right: .5ex}\n",
       ".dl-inline>dt:not(:first-of-type) {padding-left: .5ex}\n",
       "</style><dl class=dl-inline><dt>country</dt><dd>0</dd><dt>year</dt><dd>0</dd><dt>sex</dt><dd>0</dd><dt>age</dt><dd>0</dd><dt>suicides.no</dt><dd>0</dd><dt>population</dt><dd>0</dd><dt>suicides.100k.pop</dt><dd>0</dd><dt>country.year</dt><dd>0</dd><dt>hdi.for.year</dt><dd>19456</dd><dt>gdp.for.year</dt><dd>0</dd><dt>gdp.per.capita</dt><dd>0</dd><dt>generation</dt><dd>0</dd></dl>\n"
      ],
      "text/latex": [
       "\\begin{description*}\n",
       "\\item[country] 0\n",
       "\\item[year] 0\n",
       "\\item[sex] 0\n",
       "\\item[age] 0\n",
       "\\item[suicides.no] 0\n",
       "\\item[population] 0\n",
       "\\item[suicides.100k.pop] 0\n",
       "\\item[country.year] 0\n",
       "\\item[hdi.for.year] 19456\n",
       "\\item[gdp.for.year] 0\n",
       "\\item[gdp.per.capita] 0\n",
       "\\item[generation] 0\n",
       "\\end{description*}\n"
      ],
      "text/markdown": [
       "country\n",
       ":   0year\n",
       ":   0sex\n",
       ":   0age\n",
       ":   0suicides.no\n",
       ":   0population\n",
       ":   0suicides.100k.pop\n",
       ":   0country.year\n",
       ":   0hdi.for.year\n",
       ":   19456gdp.for.year\n",
       ":   0gdp.per.capita\n",
       ":   0generation\n",
       ":   0\n",
       "\n"
      ],
      "text/plain": [
       "          country              year               sex               age \n",
       "                0                 0                 0                 0 \n",
       "      suicides.no        population suicides.100k.pop      country.year \n",
       "                0                 0                 0                 0 \n",
       "     hdi.for.year      gdp.for.year    gdp.per.capita        generation \n",
       "            19456                 0                 0                 0 "
      ]
     },
     "metadata": {},
     "output_type": "display_data"
    }
   ],
   "source": [
    "apply(reworked.df, 2, function(x) sum(is.na(x)))"
   ]
  },
  {
   "cell_type": "code",
   "execution_count": 26,
   "metadata": {},
   "outputs": [
    {
     "data": {
      "text/html": [
       "<table>\n",
       "<caption>A data.frame: 6 × 2</caption>\n",
       "<thead>\n",
       "\t<tr><th></th><th scope=col>country</th><th scope=col>year</th></tr>\n",
       "\t<tr><th></th><th scope=col>&lt;chr&gt;</th><th scope=col>&lt;list&gt;</th></tr>\n",
       "</thead>\n",
       "<tbody>\n",
       "\t<tr><th scope=row>1</th><td>Albania            </td><td>1987, 1988, 1989, 1992, 1993, 1994, 1995, 1996, 1997, 1998, 1999, 2000, 2001, 2002, 2003, 2004, 2005, 2006, 2007, 2008, 2009, 2010</td></tr>\n",
       "\t<tr><th scope=row>2</th><td>Antigua and Barbuda</td><td>1985, 1986, 1987, 1988, 1989, 1990, 1991, 1992, 1993, 1994, 1995, 1998, 1999, 2000, 2001, 2002, 2003, 2004, 2005, 2006, 2007, 2008, 2009, 2012, 2013, 2014, 2015</td></tr>\n",
       "\t<tr><th scope=row>3</th><td>Argentina          </td><td>1985, 1986, 1987, 1988, 1989, 1990, 1991, 1992, 1993, 1994, 1995, 1996, 1997, 1998, 1999, 2000, 2001, 2002, 2003, 2004, 2005, 2006, 2007, 2008, 2009, 2010, 2011, 2012, 2013, 2014, 2015</td></tr>\n",
       "\t<tr><th scope=row>4</th><td>Armenia            </td><td>1990, 1991, 1992, 1993, 1994, 1995, 1996, 1997, 1998, 1999, 2000, 2001, 2002, 2003, 2006, 2007, 2008, 2009, 2010, 2011, 2012, 2013, 2014, 2015, 2016</td></tr>\n",
       "\t<tr><th scope=row>5</th><td>Aruba              </td><td>1995, 1999, 2000, 2001, 2002, 2003, 2004, 2005, 2006, 2007, 2008, 2009, 2010, 2011</td></tr>\n",
       "\t<tr><th scope=row>6</th><td>Australia          </td><td>1985, 1986, 1987, 1988, 1989, 1990, 1991, 1992, 1993, 1994, 1995, 1996, 1997, 1998, 1999, 2000, 2001, 2002, 2003, 2004, 2006, 2007, 2008, 2009, 2010, 2011, 2012, 2013, 2014, 2015</td></tr>\n",
       "</tbody>\n",
       "</table>\n"
      ],
      "text/latex": [
       "A data.frame: 6 × 2\n",
       "\\begin{tabular}{r|ll}\n",
       "  & country & year\\\\\n",
       "  & <chr> & <list>\\\\\n",
       "\\hline\n",
       "\t1 & Albania             & 1987, 1988, 1989, 1992, 1993, 1994, 1995, 1996, 1997, 1998, 1999, 2000, 2001, 2002, 2003, 2004, 2005, 2006, 2007, 2008, 2009, 2010\\\\\n",
       "\t2 & Antigua and Barbuda & 1985, 1986, 1987, 1988, 1989, 1990, 1991, 1992, 1993, 1994, 1995, 1998, 1999, 2000, 2001, 2002, 2003, 2004, 2005, 2006, 2007, 2008, 2009, 2012, 2013, 2014, 2015\\\\\n",
       "\t3 & Argentina           & 1985, 1986, 1987, 1988, 1989, 1990, 1991, 1992, 1993, 1994, 1995, 1996, 1997, 1998, 1999, 2000, 2001, 2002, 2003, 2004, 2005, 2006, 2007, 2008, 2009, 2010, 2011, 2012, 2013, 2014, 2015\\\\\n",
       "\t4 & Armenia             & 1990, 1991, 1992, 1993, 1994, 1995, 1996, 1997, 1998, 1999, 2000, 2001, 2002, 2003, 2006, 2007, 2008, 2009, 2010, 2011, 2012, 2013, 2014, 2015, 2016\\\\\n",
       "\t5 & Aruba               & 1995, 1999, 2000, 2001, 2002, 2003, 2004, 2005, 2006, 2007, 2008, 2009, 2010, 2011\\\\\n",
       "\t6 & Australia           & 1985, 1986, 1987, 1988, 1989, 1990, 1991, 1992, 1993, 1994, 1995, 1996, 1997, 1998, 1999, 2000, 2001, 2002, 2003, 2004, 2006, 2007, 2008, 2009, 2010, 2011, 2012, 2013, 2014, 2015\\\\\n",
       "\\end{tabular}\n"
      ],
      "text/markdown": [
       "\n",
       "A data.frame: 6 × 2\n",
       "\n",
       "| <!--/--> | country &lt;chr&gt; | year &lt;list&gt; |\n",
       "|---|---|---|\n",
       "| 1 | Albania             | 1987, 1988, 1989, 1992, 1993, 1994, 1995, 1996, 1997, 1998, 1999, 2000, 2001, 2002, 2003, 2004, 2005, 2006, 2007, 2008, 2009, 2010 |\n",
       "| 2 | Antigua and Barbuda | 1985, 1986, 1987, 1988, 1989, 1990, 1991, 1992, 1993, 1994, 1995, 1998, 1999, 2000, 2001, 2002, 2003, 2004, 2005, 2006, 2007, 2008, 2009, 2012, 2013, 2014, 2015 |\n",
       "| 3 | Argentina           | 1985, 1986, 1987, 1988, 1989, 1990, 1991, 1992, 1993, 1994, 1995, 1996, 1997, 1998, 1999, 2000, 2001, 2002, 2003, 2004, 2005, 2006, 2007, 2008, 2009, 2010, 2011, 2012, 2013, 2014, 2015 |\n",
       "| 4 | Armenia             | 1990, 1991, 1992, 1993, 1994, 1995, 1996, 1997, 1998, 1999, 2000, 2001, 2002, 2003, 2006, 2007, 2008, 2009, 2010, 2011, 2012, 2013, 2014, 2015, 2016 |\n",
       "| 5 | Aruba               | 1995, 1999, 2000, 2001, 2002, 2003, 2004, 2005, 2006, 2007, 2008, 2009, 2010, 2011 |\n",
       "| 6 | Australia           | 1985, 1986, 1987, 1988, 1989, 1990, 1991, 1992, 1993, 1994, 1995, 1996, 1997, 1998, 1999, 2000, 2001, 2002, 2003, 2004, 2006, 2007, 2008, 2009, 2010, 2011, 2012, 2013, 2014, 2015 |\n",
       "\n"
      ],
      "text/plain": [
       "  country            \n",
       "1 Albania            \n",
       "2 Antigua and Barbuda\n",
       "3 Argentina          \n",
       "4 Armenia            \n",
       "5 Aruba              \n",
       "6 Australia          \n",
       "  year                                                                                                                                                                                    \n",
       "1 1987, 1988, 1989, 1992, 1993, 1994, 1995, 1996, 1997, 1998, 1999, 2000, 2001, 2002, 2003, 2004, 2005, 2006, 2007, 2008, 2009, 2010                                                      \n",
       "2 1985, 1986, 1987, 1988, 1989, 1990, 1991, 1992, 1993, 1994, 1995, 1998, 1999, 2000, 2001, 2002, 2003, 2004, 2005, 2006, 2007, 2008, 2009, 2012, 2013, 2014, 2015                        \n",
       "3 1985, 1986, 1987, 1988, 1989, 1990, 1991, 1992, 1993, 1994, 1995, 1996, 1997, 1998, 1999, 2000, 2001, 2002, 2003, 2004, 2005, 2006, 2007, 2008, 2009, 2010, 2011, 2012, 2013, 2014, 2015\n",
       "4 1990, 1991, 1992, 1993, 1994, 1995, 1996, 1997, 1998, 1999, 2000, 2001, 2002, 2003, 2006, 2007, 2008, 2009, 2010, 2011, 2012, 2013, 2014, 2015, 2016                                    \n",
       "5 1995, 1999, 2000, 2001, 2002, 2003, 2004, 2005, 2006, 2007, 2008, 2009, 2010, 2011                                                                                                      \n",
       "6 1985, 1986, 1987, 1988, 1989, 1990, 1991, 1992, 1993, 1994, 1995, 1996, 1997, 1998, 1999, 2000, 2001, 2002, 2003, 2004, 2006, 2007, 2008, 2009, 2010, 2011, 2012, 2013, 2014, 2015      "
      ]
     },
     "metadata": {},
     "output_type": "display_data"
    }
   ],
   "source": [
    "#Proverimo da li su za svaku državu obezbeđeni podaci za iste godine\n",
    "country.year <- aggregate(reworked.df[\"year\"], list(country = reworked.df$country), unique)\n",
    "\n",
    "head(country.year)"
   ]
  },
  {
   "cell_type": "markdown",
   "metadata": {},
   "source": [
    "  Bitno je istaći da ovaj dataset ima dosta nedostajućih vrednosti za varijablu hdi.for.year.\n",
    "  Nema svaka država merenja za svaku godinu već npr. Argentina ima merenja za 1985. dok Albanija ima merenja tek od 1987.\n",
    "  Takođe postoji ponavljanje podataka kao što su hdi.for.year, gdp.for.year i gdp.per.capita koji se ponavljaju\n",
    "čak 12 puta (6 starosnih grupa za muški pol i 6 starosnih grupa za ženski pol za datu godinu).\n",
    "\n",
    "*Varijabla suicides.100k.pop predstavlja količnik varijabli suicides.no i population\n",
    "\n",
    "\n",
    "                                    Istraživačka pitanja:\n",
    "                                    \n",
    "1. Koje države imaju najveću stopu samoubistava?\n",
    "2. Koje starosne grupe su nasklonije suicidu?\n",
    "3. Da li postoji značajno veća stopa kod odrećenog pola?\n",
    "4. Da li je u nekoj generaciji suicid zastupljeniji?\n",
    "5. Od čega zavisi ta stopa?"
   ]
  },
  {
   "cell_type": "markdown",
   "metadata": {},
   "source": [
    "1. Koje države imaju najveću stopu suicida\n",
    "\n",
    "  Za odgovor na ovo pitanje koristiću godinu sa najviše opservacija. Razlog je taj što nemaju sve države podatke za sve godine. Ukoliko bi ovo ignorisali, dobili bi takve podatke da su neke više pozicionirane samo zbog toga što imaju više opservacija (godina). Zbog toga smatram da se ovo pitanje, kao i nekoliko sledećih, treba vezati za određenu godinu."
   ]
  },
  {
   "cell_type": "code",
   "execution_count": 5,
   "metadata": {
    "scrolled": true
   },
   "outputs": [
    {
     "data": {
      "text/html": [
       "<strong>2009:</strong> 25"
      ],
      "text/latex": [
       "\\textbf{2009:} 25"
      ],
      "text/markdown": [
       "**2009:** 25"
      ],
      "text/plain": [
       "2009 \n",
       "  25 "
      ]
     },
     "metadata": {},
     "output_type": "display_data"
    }
   ],
   "source": [
    "which.max(table(reworked.df$year))"
   ]
  },
  {
   "cell_type": "code",
   "execution_count": 6,
   "metadata": {},
   "outputs": [
    {
     "data": {
      "text/html": [
       "<table>\n",
       "<caption>A data.frame: 6 × 4</caption>\n",
       "<thead>\n",
       "\t<tr><th></th><th scope=col>country</th><th scope=col>suicides.no</th><th scope=col>population</th><th scope=col>suicides.100k.pop</th></tr>\n",
       "\t<tr><th></th><th scope=col>&lt;chr&gt;</th><th scope=col>&lt;int&gt;</th><th scope=col>&lt;int&gt;</th><th scope=col>&lt;dbl&gt;</th></tr>\n",
       "</thead>\n",
       "<tbody>\n",
       "\t<tr><th scope=row>48</th><td>Lithuania         </td><td> 1138</td><td>  3016497</td><td>0.0003772588</td></tr>\n",
       "\t<tr><th scope=row>65</th><td>Republic of Korea </td><td>15402</td><td> 47380017</td><td>0.0003250738</td></tr>\n",
       "\t<tr><th scope=row>11</th><td>Belarus           </td><td> 2743</td><td>  9169969</td><td>0.0002991286</td></tr>\n",
       "\t<tr><th scope=row>67</th><td>Russian Federation</td><td>37408</td><td>134085433</td><td>0.0002789863</td></tr>\n",
       "\t<tr><th scope=row>77</th><td>Suriname          </td><td>  131</td><td>   470448</td><td>0.0002784580</td></tr>\n",
       "\t<tr><th scope=row>44</th><td>Kazakhstan        </td><td> 3838</td><td> 14370635</td><td>0.0002670724</td></tr>\n",
       "</tbody>\n",
       "</table>\n"
      ],
      "text/latex": [
       "A data.frame: 6 × 4\n",
       "\\begin{tabular}{r|llll}\n",
       "  & country & suicides.no & population & suicides.100k.pop\\\\\n",
       "  & <chr> & <int> & <int> & <dbl>\\\\\n",
       "\\hline\n",
       "\t48 & Lithuania          &  1138 &   3016497 & 0.0003772588\\\\\n",
       "\t65 & Republic of Korea  & 15402 &  47380017 & 0.0003250738\\\\\n",
       "\t11 & Belarus            &  2743 &   9169969 & 0.0002991286\\\\\n",
       "\t67 & Russian Federation & 37408 & 134085433 & 0.0002789863\\\\\n",
       "\t77 & Suriname           &   131 &    470448 & 0.0002784580\\\\\n",
       "\t44 & Kazakhstan         &  3838 &  14370635 & 0.0002670724\\\\\n",
       "\\end{tabular}\n"
      ],
      "text/markdown": [
       "\n",
       "A data.frame: 6 × 4\n",
       "\n",
       "| <!--/--> | country &lt;chr&gt; | suicides.no &lt;int&gt; | population &lt;int&gt; | suicides.100k.pop &lt;dbl&gt; |\n",
       "|---|---|---|---|---|\n",
       "| 48 | Lithuania          |  1138 |   3016497 | 0.0003772588 |\n",
       "| 65 | Republic of Korea  | 15402 |  47380017 | 0.0003250738 |\n",
       "| 11 | Belarus            |  2743 |   9169969 | 0.0002991286 |\n",
       "| 67 | Russian Federation | 37408 | 134085433 | 0.0002789863 |\n",
       "| 77 | Suriname           |   131 |    470448 | 0.0002784580 |\n",
       "| 44 | Kazakhstan         |  3838 |  14370635 | 0.0002670724 |\n",
       "\n"
      ],
      "text/plain": [
       "   country            suicides.no population suicides.100k.pop\n",
       "48 Lithuania           1138         3016497  0.0003772588     \n",
       "65 Republic of Korea  15402        47380017  0.0003250738     \n",
       "11 Belarus             2743         9169969  0.0002991286     \n",
       "67 Russian Federation 37408       134085433  0.0002789863     \n",
       "77 Suriname             131          470448  0.0002784580     \n",
       "44 Kazakhstan          3838        14370635  0.0002670724     "
      ]
     },
     "metadata": {},
     "output_type": "display_data"
    }
   ],
   "source": [
    "year2009 <- as.data.frame(reworked.df[reworked.df$year == 2009, ])\n",
    "\n",
    "year2009.suicides.agg <- aggregate(year2009[c(\n",
    "    \"suicides.no\", \"population\")], list(country = year2009$country), sum)\n",
    "\n",
    "year2009.suicides.agg$suicides.100k.pop <- year2009.suicides.agg$suicides.no / year2009.suicides.agg$population\n",
    "\n",
    "year2009.suicides.agg <- year2009.suicides.agg[\n",
    "    order(year2009.suicides.agg$suicides.100k.pop, decreasing = TRUE), ]\n",
    "\n",
    "head(year2009.suicides.agg)"
   ]
  },
  {
   "cell_type": "markdown",
   "metadata": {},
   "source": [
    "2. Koje starosne grupe su sklonije suicidu?\n",
    "   \n",
    "  Računaće se za sve države. Za razliku od prošlog primera neću računati nove vrednosti suicides.100k.pop,  već ću sabrati postojeće. Takva sumirana vrednost nije ista kao i ona  koja se dobija kao \n",
    "suicides.no / population ali smatram da oslikava istu pojavu."
   ]
  },
  {
   "cell_type": "code",
   "execution_count": 7,
   "metadata": {
    "scrolled": false
   },
   "outputs": [
    {
     "data": {
      "image/png": "[encoded data removed]",
      "text/plain": [
       "plot without title"
      ]
     },
     "metadata": {
      "image/png": {
       "height": 420,
       "width": 420
      }
     },
     "output_type": "display_data"
    }
   ],
   "source": [
    "year2009.age.agg <- aggregate(year2009[\"suicides.100k.pop\"], list(age=year2009$age), sum)\n",
    "\n",
    "#install.packages(\"RColorBrewer\")\n",
    "\n",
    "library(ggplot2)\n",
    "library(RColorBrewer)\n",
    "\n",
    "ggplot(year2009.age.agg, aes(x=age, y=suicides.100k.pop, fill=age)) + \n",
    "geom_bar(stat=\"identity\", color=\"black\") + \n",
    "labs(x=\"Starosne grupe\", y=\"Sumirana stopa suicida\") + \n",
    "scale_fill_brewer(palette=\"Blues\")"
   ]
  },
  {
   "cell_type": "markdown",
   "metadata": {},
   "source": [
    "3. Koji pol je skloniji suicidu?"
   ]
  },
  {
   "cell_type": "code",
   "execution_count": 8,
   "metadata": {
    "scrolled": true
   },
   "outputs": [
    {
     "data": {
      "image/png": "[encoded data removed]",
      "text/plain": [
       "plot without title"
      ]
     },
     "metadata": {
      "image/png": {
       "height": 420,
       "width": 420
      }
     },
     "output_type": "display_data"
    }
   ],
   "source": [
    "year2009.sex.agg <- aggregate(year2009[\"suicides.100k.pop\"], list(sex = year2009$sex), sum)\n",
    "\n",
    "ggplot(year2009.sex.agg, aes(x=sex, y=suicides.100k.pop, fill=sex)) + \n",
    "geom_bar(stat=\"identity\", color=\"black\") + \n",
    "labs(x=\"Pol\", y=\"Sumirana stopa suicida\") + \n",
    "scale_fill_brewer(palette=\"Blues\")"
   ]
  },
  {
   "cell_type": "code",
   "execution_count": 9,
   "metadata": {},
   "outputs": [
    {
     "data": {
      "image/png": "[encoded data removed]",
      "text/plain": [
       "plot without title"
      ]
     },
     "metadata": {
      "image/png": {
       "height": 420,
       "width": 420
      }
     },
     "output_type": "display_data"
    }
   ],
   "source": [
    "sex.age.agg <- aggregate(year2009[\"suicides.100k.pop\"], list(sex = year2009$sex, age = year2009$age), sum)\n",
    "\n",
    "ggplot(sex.age.agg, aes(x = age, y = suicides.100k.pop, fill = sex)) +\n",
    "geom_bar(stat=\"identity\", color=\"black\", position = \"dodge\") + \n",
    "scale_fill_brewer(palette=\"Paired\") +\n",
    "labs(x = \"Starosne grupe\", y= \"Summirana stopa suicida\", title=\"Stopa suicida po starosnim grupama i polu\")"
   ]
  },
  {
   "cell_type": "markdown",
   "metadata": {},
   "source": [
    "4. U kojoj generaciji je suicid zastupljeniji?"
   ]
  },
  {
   "cell_type": "code",
   "execution_count": 10,
   "metadata": {},
   "outputs": [
    {
     "data": {
      "text/html": [
       "<table>\n",
       "<caption>A data.frame: 5 × 2</caption>\n",
       "<thead>\n",
       "\t<tr><th scope=col>generation</th><th scope=col>suicides.100k.pop</th></tr>\n",
       "\t<tr><th scope=col>&lt;fct&gt;</th><th scope=col>&lt;dbl&gt;</th></tr>\n",
       "</thead>\n",
       "<tbody>\n",
       "\t<tr><td>Silent      </td><td>6177.07</td></tr>\n",
       "\t<tr><td>Boomers     </td><td>2506.18</td></tr>\n",
       "\t<tr><td>Generation X</td><td>1957.17</td></tr>\n",
       "\t<tr><td>Millenials  </td><td>1429.18</td></tr>\n",
       "\t<tr><td>Generation Z</td><td> 106.44</td></tr>\n",
       "</tbody>\n",
       "</table>\n"
      ],
      "text/latex": [
       "A data.frame: 5 × 2\n",
       "\\begin{tabular}{ll}\n",
       " generation & suicides.100k.pop\\\\\n",
       " <fct> & <dbl>\\\\\n",
       "\\hline\n",
       "\t Silent       & 6177.07\\\\\n",
       "\t Boomers      & 2506.18\\\\\n",
       "\t Generation X & 1957.17\\\\\n",
       "\t Millenials   & 1429.18\\\\\n",
       "\t Generation Z &  106.44\\\\\n",
       "\\end{tabular}\n"
      ],
      "text/markdown": [
       "\n",
       "A data.frame: 5 × 2\n",
       "\n",
       "| generation &lt;fct&gt; | suicides.100k.pop &lt;dbl&gt; |\n",
       "|---|---|\n",
       "| Silent       | 6177.07 |\n",
       "| Boomers      | 2506.18 |\n",
       "| Generation X | 1957.17 |\n",
       "| Millenials   | 1429.18 |\n",
       "| Generation Z |  106.44 |\n",
       "\n"
      ],
      "text/plain": [
       "  generation   suicides.100k.pop\n",
       "1 Silent       6177.07          \n",
       "2 Boomers      2506.18          \n",
       "3 Generation X 1957.17          \n",
       "4 Millenials   1429.18          \n",
       "5 Generation Z  106.44          "
      ]
     },
     "metadata": {},
     "output_type": "display_data"
    }
   ],
   "source": [
    "generation <- aggregate(year2009[\"suicides.100k.pop\"], list(generation=year2009$generation), sum)\n",
    "generation"
   ]
  },
  {
   "cell_type": "markdown",
   "metadata": {},
   "source": [
    "5. Od čega zavisi stopa suicida?\n",
    "  Za odgovor na ovo pitanje moram koristiti i vairjablu sa HDI vrednostim. Početna hipoteza je da stopa zavisi od HDI-ja i GDP-ja. Koristiće se godina sa najvećim brojem HDI opservacija."
   ]
  },
  {
   "cell_type": "code",
   "execution_count": 11,
   "metadata": {},
   "outputs": [
    {
     "data": {
      "text/html": [
       "<strong>2010:</strong> 6"
      ],
      "text/latex": [
       "\\textbf{2010:} 6"
      ],
      "text/markdown": [
       "**2010:** 6"
      ],
      "text/plain": [
       "2010 \n",
       "   6 "
      ]
     },
     "metadata": {},
     "output_type": "display_data"
    }
   ],
   "source": [
    "hdi.df <- as.data.frame(reworked.df[is.na(reworked.df$hdi.for.year) == FALSE, ])\n",
    "which.max(table(hdi.df$year))"
   ]
  },
  {
   "cell_type": "code",
   "execution_count": 12,
   "metadata": {},
   "outputs": [
    {
     "data": {
      "text/html": [
       "<table>\n",
       "<caption>A data.frame: 6 × 12</caption>\n",
       "<thead>\n",
       "\t<tr><th></th><th scope=col>country</th><th scope=col>year</th><th scope=col>sex</th><th scope=col>age</th><th scope=col>suicides.no</th><th scope=col>population</th><th scope=col>suicides.100k.pop</th><th scope=col>country.year</th><th scope=col>hdi.for.year</th><th scope=col>gdp.for.year</th><th scope=col>gdp.per.capita</th><th scope=col>generation</th></tr>\n",
       "\t<tr><th></th><th scope=col>&lt;chr&gt;</th><th scope=col>&lt;int&gt;</th><th scope=col>&lt;fct&gt;</th><th scope=col>&lt;ord&gt;</th><th scope=col>&lt;int&gt;</th><th scope=col>&lt;int&gt;</th><th scope=col>&lt;dbl&gt;</th><th scope=col>&lt;chr&gt;</th><th scope=col>&lt;dbl&gt;</th><th scope=col>&lt;dbl&gt;</th><th scope=col>&lt;int&gt;</th><th scope=col>&lt;fct&gt;</th></tr>\n",
       "</thead>\n",
       "<tbody>\n",
       "\t<tr><th scope=row>253</th><td>Albania</td><td>2010</td><td>male  </td><td>55-74 years</td><td>20</td><td>241852</td><td>8.27</td><td>Albania2010</td><td>0.722</td><td>11926953259</td><td>4359</td><td>Silent      </td></tr>\n",
       "\t<tr><th scope=row>254</th><td>Albania</td><td>2010</td><td>male  </td><td>35-54 years</td><td>20</td><td>371611</td><td>5.38</td><td>Albania2010</td><td>0.722</td><td>11926953259</td><td>4359</td><td>Generation X</td></tr>\n",
       "\t<tr><th scope=row>255</th><td>Albania</td><td>2010</td><td>male  </td><td>25-34 years</td><td> 9</td><td>179720</td><td>5.01</td><td>Albania2010</td><td>0.722</td><td>11926953259</td><td>4359</td><td>Generation X</td></tr>\n",
       "\t<tr><th scope=row>256</th><td>Albania</td><td>2010</td><td>male  </td><td>75+ years  </td><td> 2</td><td> 50767</td><td>3.94</td><td>Albania2010</td><td>0.722</td><td>11926953259</td><td>4359</td><td>Silent      </td></tr>\n",
       "\t<tr><th scope=row>257</th><td>Albania</td><td>2010</td><td>male  </td><td>15-24 years</td><td>10</td><td>279508</td><td>3.58</td><td>Albania2010</td><td>0.722</td><td>11926953259</td><td>4359</td><td>Millenials  </td></tr>\n",
       "\t<tr><th scope=row>258</th><td>Albania</td><td>2010</td><td>female</td><td>25-34 years</td><td> 6</td><td>183579</td><td>3.27</td><td>Albania2010</td><td>0.722</td><td>11926953259</td><td>4359</td><td>Generation X</td></tr>\n",
       "</tbody>\n",
       "</table>\n"
      ],
      "text/latex": [
       "A data.frame: 6 × 12\n",
       "\\begin{tabular}{r|llllllllllll}\n",
       "  & country & year & sex & age & suicides.no & population & suicides.100k.pop & country.year & hdi.for.year & gdp.for.year & gdp.per.capita & generation\\\\\n",
       "  & <chr> & <int> & <fct> & <ord> & <int> & <int> & <dbl> & <chr> & <dbl> & <dbl> & <int> & <fct>\\\\\n",
       "\\hline\n",
       "\t253 & Albania & 2010 & male   & 55-74 years & 20 & 241852 & 8.27 & Albania2010 & 0.722 & 11926953259 & 4359 & Silent      \\\\\n",
       "\t254 & Albania & 2010 & male   & 35-54 years & 20 & 371611 & 5.38 & Albania2010 & 0.722 & 11926953259 & 4359 & Generation X\\\\\n",
       "\t255 & Albania & 2010 & male   & 25-34 years &  9 & 179720 & 5.01 & Albania2010 & 0.722 & 11926953259 & 4359 & Generation X\\\\\n",
       "\t256 & Albania & 2010 & male   & 75+ years   &  2 &  50767 & 3.94 & Albania2010 & 0.722 & 11926953259 & 4359 & Silent      \\\\\n",
       "\t257 & Albania & 2010 & male   & 15-24 years & 10 & 279508 & 3.58 & Albania2010 & 0.722 & 11926953259 & 4359 & Millenials  \\\\\n",
       "\t258 & Albania & 2010 & female & 25-34 years &  6 & 183579 & 3.27 & Albania2010 & 0.722 & 11926953259 & 4359 & Generation X\\\\\n",
       "\\end{tabular}\n"
      ],
      "text/markdown": [
       "\n",
       "A data.frame: 6 × 12\n",
       "\n",
       "| <!--/--> | country &lt;chr&gt; | year &lt;int&gt; | sex &lt;fct&gt; | age &lt;ord&gt; | suicides.no &lt;int&gt; | population &lt;int&gt; | suicides.100k.pop &lt;dbl&gt; | country.year &lt;chr&gt; | hdi.for.year &lt;dbl&gt; | gdp.for.year &lt;dbl&gt; | gdp.per.capita &lt;int&gt; | generation &lt;fct&gt; |\n",
       "|---|---|---|---|---|---|---|---|---|---|---|---|---|\n",
       "| 253 | Albania | 2010 | male   | 55-74 years | 20 | 241852 | 8.27 | Albania2010 | 0.722 | 11926953259 | 4359 | Silent       |\n",
       "| 254 | Albania | 2010 | male   | 35-54 years | 20 | 371611 | 5.38 | Albania2010 | 0.722 | 11926953259 | 4359 | Generation X |\n",
       "| 255 | Albania | 2010 | male   | 25-34 years |  9 | 179720 | 5.01 | Albania2010 | 0.722 | 11926953259 | 4359 | Generation X |\n",
       "| 256 | Albania | 2010 | male   | 75+ years   |  2 |  50767 | 3.94 | Albania2010 | 0.722 | 11926953259 | 4359 | Silent       |\n",
       "| 257 | Albania | 2010 | male   | 15-24 years | 10 | 279508 | 3.58 | Albania2010 | 0.722 | 11926953259 | 4359 | Millenials   |\n",
       "| 258 | Albania | 2010 | female | 25-34 years |  6 | 183579 | 3.27 | Albania2010 | 0.722 | 11926953259 | 4359 | Generation X |\n",
       "\n"
      ],
      "text/plain": [
       "    country year sex    age         suicides.no population suicides.100k.pop\n",
       "253 Albania 2010 male   55-74 years 20          241852     8.27             \n",
       "254 Albania 2010 male   35-54 years 20          371611     5.38             \n",
       "255 Albania 2010 male   25-34 years  9          179720     5.01             \n",
       "256 Albania 2010 male   75+ years    2           50767     3.94             \n",
       "257 Albania 2010 male   15-24 years 10          279508     3.58             \n",
       "258 Albania 2010 female 25-34 years  6          183579     3.27             \n",
       "    country.year hdi.for.year gdp.for.year gdp.per.capita generation  \n",
       "253 Albania2010  0.722        11926953259  4359           Silent      \n",
       "254 Albania2010  0.722        11926953259  4359           Generation X\n",
       "255 Albania2010  0.722        11926953259  4359           Generation X\n",
       "256 Albania2010  0.722        11926953259  4359           Silent      \n",
       "257 Albania2010  0.722        11926953259  4359           Millenials  \n",
       "258 Albania2010  0.722        11926953259  4359           Generation X"
      ]
     },
     "metadata": {},
     "output_type": "display_data"
    }
   ],
   "source": [
    "year2010 <- as.data.frame(hdi.df[hdi.df$year == 2010, ])\n",
    "head(year2010)"
   ]
  },
  {
   "cell_type": "code",
   "execution_count": 13,
   "metadata": {
    "scrolled": true
   },
   "outputs": [
    {
     "data": {
      "text/html": [
       "<table>\n",
       "<caption>A data.frame: 6 × 7</caption>\n",
       "<thead>\n",
       "\t<tr><th></th><th scope=col>country</th><th scope=col>hdi.for.year</th><th scope=col>gdp.for.year</th><th scope=col>gdp.per.capita</th><th scope=col>suicides.no</th><th scope=col>population</th><th scope=col>suicides.100k.pop</th></tr>\n",
       "\t<tr><th></th><th scope=col>&lt;chr&gt;</th><th scope=col>&lt;dbl&gt;</th><th scope=col>&lt;dbl&gt;</th><th scope=col>&lt;int&gt;</th><th scope=col>&lt;int&gt;</th><th scope=col>&lt;int&gt;</th><th scope=col>&lt;dbl&gt;</th></tr>\n",
       "</thead>\n",
       "<tbody>\n",
       "\t<tr><th scope=row>1</th><td>Albania  </td><td>0.722</td><td>1.192695e+10</td><td> 4359</td><td>  96</td><td> 2736025</td><td>3.508740e-05</td></tr>\n",
       "\t<tr><th scope=row>2</th><td>Argentina</td><td>0.811</td><td>4.236274e+11</td><td>11273</td><td>2943</td><td>37578454</td><td>7.831615e-05</td></tr>\n",
       "\t<tr><th scope=row>3</th><td>Armenia  </td><td>0.721</td><td>9.260285e+09</td><td> 3460</td><td>  73</td><td> 2676225</td><td>2.727723e-05</td></tr>\n",
       "\t<tr><th scope=row>4</th><td>Australia</td><td>0.927</td><td>1.144261e+12</td><td>54887</td><td>2420</td><td>20847547</td><td>1.160808e-04</td></tr>\n",
       "\t<tr><th scope=row>5</th><td>Austria  </td><td>0.879</td><td>3.918927e+11</td><td>49181</td><td>1264</td><td> 7968421</td><td>1.586262e-04</td></tr>\n",
       "\t<tr><th scope=row>6</th><td>Bahamas  </td><td>0.774</td><td>1.009576e+10</td><td>30239</td><td>  10</td><td>  333869</td><td>2.995187e-05</td></tr>\n",
       "</tbody>\n",
       "</table>\n"
      ],
      "text/latex": [
       "A data.frame: 6 × 7\n",
       "\\begin{tabular}{r|lllllll}\n",
       "  & country & hdi.for.year & gdp.for.year & gdp.per.capita & suicides.no & population & suicides.100k.pop\\\\\n",
       "  & <chr> & <dbl> & <dbl> & <int> & <int> & <int> & <dbl>\\\\\n",
       "\\hline\n",
       "\t1 & Albania   & 0.722 & 1.192695e+10 &  4359 &   96 &  2736025 & 3.508740e-05\\\\\n",
       "\t2 & Argentina & 0.811 & 4.236274e+11 & 11273 & 2943 & 37578454 & 7.831615e-05\\\\\n",
       "\t3 & Armenia   & 0.721 & 9.260285e+09 &  3460 &   73 &  2676225 & 2.727723e-05\\\\\n",
       "\t4 & Australia & 0.927 & 1.144261e+12 & 54887 & 2420 & 20847547 & 1.160808e-04\\\\\n",
       "\t5 & Austria   & 0.879 & 3.918927e+11 & 49181 & 1264 &  7968421 & 1.586262e-04\\\\\n",
       "\t6 & Bahamas   & 0.774 & 1.009576e+10 & 30239 &   10 &   333869 & 2.995187e-05\\\\\n",
       "\\end{tabular}\n"
      ],
      "text/markdown": [
       "\n",
       "A data.frame: 6 × 7\n",
       "\n",
       "| <!--/--> | country &lt;chr&gt; | hdi.for.year &lt;dbl&gt; | gdp.for.year &lt;dbl&gt; | gdp.per.capita &lt;int&gt; | suicides.no &lt;int&gt; | population &lt;int&gt; | suicides.100k.pop &lt;dbl&gt; |\n",
       "|---|---|---|---|---|---|---|---|\n",
       "| 1 | Albania   | 0.722 | 1.192695e+10 |  4359 |   96 |  2736025 | 3.508740e-05 |\n",
       "| 2 | Argentina | 0.811 | 4.236274e+11 | 11273 | 2943 | 37578454 | 7.831615e-05 |\n",
       "| 3 | Armenia   | 0.721 | 9.260285e+09 |  3460 |   73 |  2676225 | 2.727723e-05 |\n",
       "| 4 | Australia | 0.927 | 1.144261e+12 | 54887 | 2420 | 20847547 | 1.160808e-04 |\n",
       "| 5 | Austria   | 0.879 | 3.918927e+11 | 49181 | 1264 |  7968421 | 1.586262e-04 |\n",
       "| 6 | Bahamas   | 0.774 | 1.009576e+10 | 30239 |   10 |   333869 | 2.995187e-05 |\n",
       "\n"
      ],
      "text/plain": [
       "  country   hdi.for.year gdp.for.year gdp.per.capita suicides.no population\n",
       "1 Albania   0.722        1.192695e+10  4359            96         2736025  \n",
       "2 Argentina 0.811        4.236274e+11 11273          2943        37578454  \n",
       "3 Armenia   0.721        9.260285e+09  3460            73         2676225  \n",
       "4 Australia 0.927        1.144261e+12 54887          2420        20847547  \n",
       "5 Austria   0.879        3.918927e+11 49181          1264         7968421  \n",
       "6 Bahamas   0.774        1.009576e+10 30239            10          333869  \n",
       "  suicides.100k.pop\n",
       "1 3.508740e-05     \n",
       "2 7.831615e-05     \n",
       "3 2.727723e-05     \n",
       "4 1.160808e-04     \n",
       "5 1.586262e-04     \n",
       "6 2.995187e-05     "
      ]
     },
     "metadata": {},
     "output_type": "display_data"
    }
   ],
   "source": [
    "year2010.agg <- aggregate(\n",
    "    year2010[ , c(\"hdi.for.year\", \"gdp.for.year\", \"gdp.per.capita\")], list(country = year2010$country), unique)\n",
    "\n",
    "year2010.agg2 <- aggregate(year2010[, c(\"suicides.no\", \"population\")], list(country = year2010$country), sum)\n",
    "year2010.agg2$suicides.100k.pop <- year2010.agg2$suicides.no / year2010.agg2$population\n",
    "year2010.agg[c(\"suicides.no\", \"population\", \"suicides.100k.pop\")] <- year2010.agg2[\n",
    "    , c(\"suicides.no\", \"population\", \"suicides.100k.pop\")]\n",
    "\n",
    "head(year2010.agg)"
   ]
  },
  {
   "cell_type": "code",
   "execution_count": 14,
   "metadata": {
    "scrolled": true
   },
   "outputs": [
    {
     "data": {
      "text/plain": [
       "\n",
       "\tShapiro-Wilk normality test\n",
       "\n",
       "data:  year2010.agg$suicides.100k.pop\n",
       "W = 0.93155, p-value = 0.0002438\n"
      ]
     },
     "metadata": {},
     "output_type": "display_data"
    },
    {
     "data": {
      "text/plain": [
       "\n",
       "\tShapiro-Wilk normality test\n",
       "\n",
       "data:  year2010.agg$hdi.for.year\n",
       "W = 0.96029, p-value = 0.01097\n"
      ]
     },
     "metadata": {},
     "output_type": "display_data"
    },
    {
     "name": "stderr",
     "output_type": "stream",
     "text": [
      "Warning message in cor.test.default(year2010.agg$hdi.for.year, year2010.agg$suicides.100k.pop, :\n",
      "\"Cannot compute exact p-value with ties\"\n"
     ]
    },
    {
     "data": {
      "text/plain": [
       "\n",
       "\tSpearman's rank correlation rho\n",
       "\n",
       "data:  year2010.agg$hdi.for.year and year2010.agg$suicides.100k.pop\n",
       "S = 59529, p-value = 0.0001826\n",
       "alternative hypothesis: true rho is not equal to 0\n",
       "sample estimates:\n",
       "      rho \n",
       "0.3972966 \n"
      ]
     },
     "metadata": {},
     "output_type": "display_data"
    },
    {
     "data": {
      "image/png": "[encoded data removed]",
      "text/plain": [
       "plot without title"
      ]
     },
     "metadata": {
      "image/png": {
       "height": 420,
       "width": 420
      }
     },
     "output_type": "display_data"
    }
   ],
   "source": [
    "shapiro.test(year2010.agg$suicides.100k.pop)\n",
    "shapiro.test(year2010.agg$hdi.for.year)\n",
    "\n",
    "ggplot(year2010.agg, aes(hdi.for.year, suicides.100k.pop)) + geom_point()\n",
    "\n",
    "cor.test(year2010.agg$hdi.for.year, year2010.agg$suicides.100k.pop, method=\"spearman\")"
   ]
  },
  {
   "cell_type": "markdown",
   "metadata": {},
   "source": [
    "Varijabla suicides.100k.pop nije normalno raspoređena.\n",
    "Varijabla hdi.for.year nije normalno raspoređena.\n",
    "Korelacija između ove dve varijable statistički značajna ali je slaba."
   ]
  },
  {
   "cell_type": "code",
   "execution_count": 15,
   "metadata": {
    "scrolled": true
   },
   "outputs": [
    {
     "data": {
      "text/plain": [
       "\n",
       "\tShapiro-Wilk normality test\n",
       "\n",
       "data:  year2010.agg$gdp.per.capita\n",
       "W = 0.83498, p-value = 2.966e-08\n"
      ]
     },
     "metadata": {},
     "output_type": "display_data"
    },
    {
     "data": {
      "text/plain": [
       "\n",
       "\tSpearman's rank correlation rho\n",
       "\n",
       "data:  year2010.agg$gdp.per.capita and year2010.agg$suicides.100k.pop\n",
       "S = 74408, p-value = 0.02394\n",
       "alternative hypothesis: true rho is not equal to 0\n",
       "sample estimates:\n",
       "      rho \n",
       "0.2466538 \n"
      ]
     },
     "metadata": {},
     "output_type": "display_data"
    },
    {
     "data": {
      "image/png": "[encoded data removed]",
      "text/plain": [
       "plot without title"
      ]
     },
     "metadata": {
      "image/png": {
       "height": 420,
       "width": 420
      }
     },
     "output_type": "display_data"
    }
   ],
   "source": [
    "shapiro.test(year2010.agg$gdp.per.capita)\n",
    "cor.test(year2010.agg$gdp.per.capita, year2010.agg$suicides.100k.pop, method=\"spearman\")\n",
    "\n",
    "ggplot(year2010.agg, aes(gdp.per.capita, suicides.100k.pop)) + geom_point()"
   ]
  },
  {
   "cell_type": "markdown",
   "metadata": {},
   "source": [
    "Korelacija između ove dve varijable ne postoji ili nije značajna."
   ]
  },
  {
   "cell_type": "markdown",
   "metadata": {},
   "source": [
    "  Sada će se pristupiti modelovanju ovih podataka da eventualno predviđanje. Koristiće se decision tree analiza. "
   ]
  },
  {
   "cell_type": "code",
   "execution_count": 16,
   "metadata": {
    "scrolled": true
   },
   "outputs": [
    {
     "data": {
      "text/html": [
       "<table>\n",
       "<caption>A data.frame: 6 × 6</caption>\n",
       "<thead>\n",
       "\t<tr><th></th><th scope=col>hdi.for.year</th><th scope=col>gdp.for.year</th><th scope=col>gdp.per.capita</th><th scope=col>suicides.no</th><th scope=col>population</th><th scope=col>high.rate</th></tr>\n",
       "\t<tr><th></th><th scope=col>&lt;dbl&gt;</th><th scope=col>&lt;dbl&gt;</th><th scope=col>&lt;int&gt;</th><th scope=col>&lt;int&gt;</th><th scope=col>&lt;int&gt;</th><th scope=col>&lt;fct&gt;</th></tr>\n",
       "</thead>\n",
       "<tbody>\n",
       "\t<tr><th scope=row>1</th><td>0.722</td><td>1.192695e+10</td><td> 4359</td><td>  96</td><td> 2736025</td><td>No </td></tr>\n",
       "\t<tr><th scope=row>2</th><td>0.811</td><td>4.236274e+11</td><td>11273</td><td>2943</td><td>37578454</td><td>No </td></tr>\n",
       "\t<tr><th scope=row>3</th><td>0.721</td><td>9.260285e+09</td><td> 3460</td><td>  73</td><td> 2676225</td><td>No </td></tr>\n",
       "\t<tr><th scope=row>4</th><td>0.927</td><td>1.144261e+12</td><td>54887</td><td>2420</td><td>20847547</td><td>No </td></tr>\n",
       "\t<tr><th scope=row>5</th><td>0.879</td><td>3.918927e+11</td><td>49181</td><td>1264</td><td> 7968421</td><td>Yes</td></tr>\n",
       "\t<tr><th scope=row>6</th><td>0.774</td><td>1.009576e+10</td><td>30239</td><td>  10</td><td>  333869</td><td>No </td></tr>\n",
       "</tbody>\n",
       "</table>\n"
      ],
      "text/latex": [
       "A data.frame: 6 × 6\n",
       "\\begin{tabular}{r|llllll}\n",
       "  & hdi.for.year & gdp.for.year & gdp.per.capita & suicides.no & population & high.rate\\\\\n",
       "  & <dbl> & <dbl> & <int> & <int> & <int> & <fct>\\\\\n",
       "\\hline\n",
       "\t1 & 0.722 & 1.192695e+10 &  4359 &   96 &  2736025 & No \\\\\n",
       "\t2 & 0.811 & 4.236274e+11 & 11273 & 2943 & 37578454 & No \\\\\n",
       "\t3 & 0.721 & 9.260285e+09 &  3460 &   73 &  2676225 & No \\\\\n",
       "\t4 & 0.927 & 1.144261e+12 & 54887 & 2420 & 20847547 & No \\\\\n",
       "\t5 & 0.879 & 3.918927e+11 & 49181 & 1264 &  7968421 & Yes\\\\\n",
       "\t6 & 0.774 & 1.009576e+10 & 30239 &   10 &   333869 & No \\\\\n",
       "\\end{tabular}\n"
      ],
      "text/markdown": [
       "\n",
       "A data.frame: 6 × 6\n",
       "\n",
       "| <!--/--> | hdi.for.year &lt;dbl&gt; | gdp.for.year &lt;dbl&gt; | gdp.per.capita &lt;int&gt; | suicides.no &lt;int&gt; | population &lt;int&gt; | high.rate &lt;fct&gt; |\n",
       "|---|---|---|---|---|---|---|\n",
       "| 1 | 0.722 | 1.192695e+10 |  4359 |   96 |  2736025 | No  |\n",
       "| 2 | 0.811 | 4.236274e+11 | 11273 | 2943 | 37578454 | No  |\n",
       "| 3 | 0.721 | 9.260285e+09 |  3460 |   73 |  2676225 | No  |\n",
       "| 4 | 0.927 | 1.144261e+12 | 54887 | 2420 | 20847547 | No  |\n",
       "| 5 | 0.879 | 3.918927e+11 | 49181 | 1264 |  7968421 | Yes |\n",
       "| 6 | 0.774 | 1.009576e+10 | 30239 |   10 |   333869 | No  |\n",
       "\n"
      ],
      "text/plain": [
       "  hdi.for.year gdp.for.year gdp.per.capita suicides.no population high.rate\n",
       "1 0.722        1.192695e+10  4359            96         2736025   No       \n",
       "2 0.811        4.236274e+11 11273          2943        37578454   No       \n",
       "3 0.721        9.260285e+09  3460            73         2676225   No       \n",
       "4 0.927        1.144261e+12 54887          2420        20847547   No       \n",
       "5 0.879        3.918927e+11 49181          1264         7968421   Yes      \n",
       "6 0.774        1.009576e+10 30239            10          333869   No       "
      ]
     },
     "metadata": {},
     "output_type": "display_data"
    }
   ],
   "source": [
    "#install.packages(c(\"rpart\", \"rpart.plot\"))\n",
    "\n",
    "library(rpart)\n",
    "library(rpart.plot)\n",
    "\n",
    "train.data <- as.data.frame(year2010.agg)\n",
    "third.q <- quantile(train.data$suicides.100k.pop, 0.75)\n",
    "\n",
    "train.data$high.rate <- ifelse(train.data$suicides.100k.pop > third.q, \"Yes\", \"No\")\n",
    "train.data$high.rate <- as.factor(train.data$high.rate)\n",
    "train.data[c(\"country\", \"suicides.100k.pop\")] <- NULL\n",
    "\n",
    "head(train.data)"
   ]
  },
  {
   "cell_type": "code",
   "execution_count": 17,
   "metadata": {},
   "outputs": [
    {
     "name": "stdout",
     "output_type": "stream",
     "text": [
      "n= 84 \n",
      "\n",
      "node), split, n, loss, yval, (yprob)\n",
      "      * denotes terminal node\n",
      "\n",
      " 1) root 84 21 No (0.75000000 0.25000000)  \n",
      "   2) suicides.no< 124 22  1 No (0.95454545 0.04545455) *\n",
      "   3) suicides.no>=124 62 20 No (0.67741935 0.32258065)  \n",
      "     6) population>=3200861 54 13 No (0.75925926 0.24074074)  \n",
      "      12) suicides.no< 703.5 17  0 No (1.00000000 0.00000000) *\n",
      "      13) suicides.no>=703.5 37 13 No (0.64864865 0.35135135)  \n",
      "        26) population>=1.046851e+07 25  5 No (0.80000000 0.20000000)  \n",
      "          52) suicides.no< 5607.5 18  1 No (0.94444444 0.05555556) *\n",
      "          53) suicides.no>=5607.5 7  3 Yes (0.42857143 0.57142857) *\n",
      "        27) population< 1.046851e+07 12  4 Yes (0.33333333 0.66666667) *\n",
      "     7) population< 3200861 8  1 Yes (0.12500000 0.87500000) *\n"
     ]
    },
    {
     "data": {
      "image/png": "[encoded data removed]",
      "text/plain": [
       "plot without title"
      ]
     },
     "metadata": {
      "image/png": {
       "height": 420,
       "width": 420
      }
     },
     "output_type": "display_data"
    }
   ],
   "source": [
    "tree1 <- rpart(high.rate ~. , train.data, method = \"class\")\n",
    "print(tree1)\n",
    "rpart.plot(tree1)"
   ]
  },
  {
   "cell_type": "markdown",
   "metadata": {},
   "source": [
    "  Probaću još jedan model kojem ću proslediti ceo dataset."
   ]
  },
  {
   "cell_type": "code",
   "execution_count": 18,
   "metadata": {},
   "outputs": [
    {
     "data": {
      "text/html": [
       "<table>\n",
       "<caption>A data.frame: 6 × 9</caption>\n",
       "<thead>\n",
       "\t<tr><th></th><th scope=col>sex</th><th scope=col>age</th><th scope=col>suicides.no</th><th scope=col>population</th><th scope=col>hdi.for.year</th><th scope=col>gdp.for.year</th><th scope=col>gdp.per.capita</th><th scope=col>generation</th><th scope=col>high.rate</th></tr>\n",
       "\t<tr><th></th><th scope=col>&lt;fct&gt;</th><th scope=col>&lt;ord&gt;</th><th scope=col>&lt;int&gt;</th><th scope=col>&lt;int&gt;</th><th scope=col>&lt;dbl&gt;</th><th scope=col>&lt;dbl&gt;</th><th scope=col>&lt;int&gt;</th><th scope=col>&lt;fct&gt;</th><th scope=col>&lt;fct&gt;</th></tr>\n",
       "</thead>\n",
       "<tbody>\n",
       "\t<tr><th scope=row>253</th><td>male  </td><td>55-74 years</td><td>20</td><td>241852</td><td>0.722</td><td>11926953259</td><td>4359</td><td>Silent      </td><td>No</td></tr>\n",
       "\t<tr><th scope=row>254</th><td>male  </td><td>35-54 years</td><td>20</td><td>371611</td><td>0.722</td><td>11926953259</td><td>4359</td><td>Generation X</td><td>No</td></tr>\n",
       "\t<tr><th scope=row>255</th><td>male  </td><td>25-34 years</td><td> 9</td><td>179720</td><td>0.722</td><td>11926953259</td><td>4359</td><td>Generation X</td><td>No</td></tr>\n",
       "\t<tr><th scope=row>256</th><td>male  </td><td>75+ years  </td><td> 2</td><td> 50767</td><td>0.722</td><td>11926953259</td><td>4359</td><td>Silent      </td><td>No</td></tr>\n",
       "\t<tr><th scope=row>257</th><td>male  </td><td>15-24 years</td><td>10</td><td>279508</td><td>0.722</td><td>11926953259</td><td>4359</td><td>Millenials  </td><td>No</td></tr>\n",
       "\t<tr><th scope=row>258</th><td>female</td><td>25-34 years</td><td> 6</td><td>183579</td><td>0.722</td><td>11926953259</td><td>4359</td><td>Generation X</td><td>No</td></tr>\n",
       "</tbody>\n",
       "</table>\n"
      ],
      "text/latex": [
       "A data.frame: 6 × 9\n",
       "\\begin{tabular}{r|lllllllll}\n",
       "  & sex & age & suicides.no & population & hdi.for.year & gdp.for.year & gdp.per.capita & generation & high.rate\\\\\n",
       "  & <fct> & <ord> & <int> & <int> & <dbl> & <dbl> & <int> & <fct> & <fct>\\\\\n",
       "\\hline\n",
       "\t253 & male   & 55-74 years & 20 & 241852 & 0.722 & 11926953259 & 4359 & Silent       & No\\\\\n",
       "\t254 & male   & 35-54 years & 20 & 371611 & 0.722 & 11926953259 & 4359 & Generation X & No\\\\\n",
       "\t255 & male   & 25-34 years &  9 & 179720 & 0.722 & 11926953259 & 4359 & Generation X & No\\\\\n",
       "\t256 & male   & 75+ years   &  2 &  50767 & 0.722 & 11926953259 & 4359 & Silent       & No\\\\\n",
       "\t257 & male   & 15-24 years & 10 & 279508 & 0.722 & 11926953259 & 4359 & Millenials   & No\\\\\n",
       "\t258 & female & 25-34 years &  6 & 183579 & 0.722 & 11926953259 & 4359 & Generation X & No\\\\\n",
       "\\end{tabular}\n"
      ],
      "text/markdown": [
       "\n",
       "A data.frame: 6 × 9\n",
       "\n",
       "| <!--/--> | sex &lt;fct&gt; | age &lt;ord&gt; | suicides.no &lt;int&gt; | population &lt;int&gt; | hdi.for.year &lt;dbl&gt; | gdp.for.year &lt;dbl&gt; | gdp.per.capita &lt;int&gt; | generation &lt;fct&gt; | high.rate &lt;fct&gt; |\n",
       "|---|---|---|---|---|---|---|---|---|---|\n",
       "| 253 | male   | 55-74 years | 20 | 241852 | 0.722 | 11926953259 | 4359 | Silent       | No |\n",
       "| 254 | male   | 35-54 years | 20 | 371611 | 0.722 | 11926953259 | 4359 | Generation X | No |\n",
       "| 255 | male   | 25-34 years |  9 | 179720 | 0.722 | 11926953259 | 4359 | Generation X | No |\n",
       "| 256 | male   | 75+ years   |  2 |  50767 | 0.722 | 11926953259 | 4359 | Silent       | No |\n",
       "| 257 | male   | 15-24 years | 10 | 279508 | 0.722 | 11926953259 | 4359 | Millenials   | No |\n",
       "| 258 | female | 25-34 years |  6 | 183579 | 0.722 | 11926953259 | 4359 | Generation X | No |\n",
       "\n"
      ],
      "text/plain": [
       "    sex    age         suicides.no population hdi.for.year gdp.for.year\n",
       "253 male   55-74 years 20          241852     0.722        11926953259 \n",
       "254 male   35-54 years 20          371611     0.722        11926953259 \n",
       "255 male   25-34 years  9          179720     0.722        11926953259 \n",
       "256 male   75+ years    2           50767     0.722        11926953259 \n",
       "257 male   15-24 years 10          279508     0.722        11926953259 \n",
       "258 female 25-34 years  6          183579     0.722        11926953259 \n",
       "    gdp.per.capita generation   high.rate\n",
       "253 4359           Silent       No       \n",
       "254 4359           Generation X No       \n",
       "255 4359           Generation X No       \n",
       "256 4359           Silent       No       \n",
       "257 4359           Millenials   No       \n",
       "258 4359           Generation X No       "
      ]
     },
     "metadata": {},
     "output_type": "display_data"
    }
   ],
   "source": [
    "train.data2 <- as.data.frame(year2010)\n",
    "q3 <- quantile(train.data2$suicides.100k.pop, 0.75)\n",
    "\n",
    "train.data2$high.rate <- ifelse(train.data2$suicides.100k.pop > q3, \"Yes\", \"No\")\n",
    "train.data2$high.rate <- as.factor(train.data2$high.rate)\n",
    "train.data2[c(\"country\", \"year\", \"suicides.100k.pop\", \"country.year\")] <- NULL\n",
    "\n",
    "head(train.data2)"
   ]
  },
  {
   "cell_type": "code",
   "execution_count": 19,
   "metadata": {
    "scrolled": false
   },
   "outputs": [
    {
     "name": "stdout",
     "output_type": "stream",
     "text": [
      "n= 1008 \n",
      "\n",
      "node), split, n, loss, yval, (yprob)\n",
      "      * denotes terminal node\n",
      "\n",
      "  1) root 1008 252 No (0.75000000 0.25000000)  \n",
      "    2) sex=female 504  26 No (0.94841270 0.05158730) *\n",
      "    3) sex=male 504 226 No (0.55158730 0.44841270)  \n",
      "      6) suicides.no< 58.5 272  61 No (0.77573529 0.22426471)  \n",
      "       12) population>=190637.5 124   4 No (0.96774194 0.03225806) *\n",
      "       13) population< 190637.5 148  57 No (0.61486486 0.38513514)  \n",
      "         26) suicides.no< 3.5 79   7 No (0.91139241 0.08860759) *\n",
      "         27) suicides.no>=3.5 69  19 Yes (0.27536232 0.72463768)  \n",
      "           54) suicides.no< 17.5 41  19 Yes (0.46341463 0.53658537)  \n",
      "            108) population>=45716 24   5 No (0.79166667 0.20833333) *\n",
      "            109) population< 45716 17   0 Yes (0.00000000 1.00000000) *\n",
      "           55) suicides.no>=17.5 28   0 Yes (0.00000000 1.00000000) *\n",
      "      7) suicides.no>=58.5 232  67 Yes (0.28879310 0.71120690)  \n",
      "       14) hdi.for.year< 0.748 58  16 No (0.72413793 0.27586207)  \n",
      "         28) population>=822889 44   7 No (0.84090909 0.15909091) *\n",
      "         29) population< 822889 14   5 Yes (0.35714286 0.64285714) *\n",
      "       15) hdi.for.year>=0.748 174  25 Yes (0.14367816 0.85632184)  \n",
      "         30) age=5-14 years,15-24 years 30  13 Yes (0.43333333 0.56666667)  \n",
      "           60) gdp.for.year>=4.859629e+11 12   3 No (0.75000000 0.25000000) *\n",
      "           61) gdp.for.year< 4.859629e+11 18   4 Yes (0.22222222 0.77777778) *\n",
      "         31) age=25-34 years,35-54 years,55-74 years,75+ years 144  12 Yes (0.08333333 0.91666667) *\n"
     ]
    },
    {
     "data": {
      "image/png": "[encoded data removed]",
      "text/plain": [
       "plot without title"
      ]
     },
     "metadata": {
      "image/png": {
       "height": 420,
       "width": 420
      }
     },
     "output_type": "display_data"
    }
   ],
   "source": [
    "tree2 <- rpart(high.rate ~. , train.data2, method = \"class\")\n",
    "print(tree2)\n",
    "rpart.plot(tree2)"
   ]
  },
  {
   "cell_type": "markdown",
   "metadata": {},
   "source": [
    "  Napraviću stablo na osnovu celog data seta a ne samo jedne godine."
   ]
  },
  {
   "cell_type": "code",
   "execution_count": 20,
   "metadata": {},
   "outputs": [
    {
     "name": "stderr",
     "output_type": "stream",
     "text": [
      "Loading required package: lattice\n",
      "\n"
     ]
    },
    {
     "data": {
      "text/html": [
       "<table>\n",
       "<caption>A data.frame: 6 × 9</caption>\n",
       "<thead>\n",
       "\t<tr><th></th><th scope=col>sex</th><th scope=col>age</th><th scope=col>suicides.no</th><th scope=col>population</th><th scope=col>hdi.for.year</th><th scope=col>gdp.for.year</th><th scope=col>gdp.per.capita</th><th scope=col>generation</th><th scope=col>high.rate</th></tr>\n",
       "\t<tr><th></th><th scope=col>&lt;fct&gt;</th><th scope=col>&lt;ord&gt;</th><th scope=col>&lt;int&gt;</th><th scope=col>&lt;int&gt;</th><th scope=col>&lt;dbl&gt;</th><th scope=col>&lt;dbl&gt;</th><th scope=col>&lt;int&gt;</th><th scope=col>&lt;fct&gt;</th><th scope=col>&lt;fct&gt;</th></tr>\n",
       "</thead>\n",
       "<tbody>\n",
       "\t<tr><th scope=row>73</th><td>male  </td><td>25-34 years</td><td>13</td><td>232900</td><td>0.619</td><td>2424499009</td><td>835</td><td>Generation X   </td><td>No</td></tr>\n",
       "\t<tr><th scope=row>74</th><td>male  </td><td>55-74 years</td><td> 9</td><td>178000</td><td>0.619</td><td>2424499009</td><td>835</td><td>Silent         </td><td>No</td></tr>\n",
       "\t<tr><th scope=row>75</th><td>female</td><td>75+ years  </td><td> 2</td><td> 40800</td><td>0.619</td><td>2424499009</td><td>835</td><td>G.I. Generation</td><td>No</td></tr>\n",
       "\t<tr><th scope=row>76</th><td>female</td><td>15-24 years</td><td>13</td><td>283500</td><td>0.619</td><td>2424499009</td><td>835</td><td>Generation X   </td><td>No</td></tr>\n",
       "\t<tr><th scope=row>77</th><td>male  </td><td>15-24 years</td><td>11</td><td>241200</td><td>0.619</td><td>2424499009</td><td>835</td><td>Generation X   </td><td>No</td></tr>\n",
       "\t<tr><th scope=row>78</th><td>male  </td><td>75+ years  </td><td> 1</td><td> 25100</td><td>0.619</td><td>2424499009</td><td>835</td><td>G.I. Generation</td><td>No</td></tr>\n",
       "</tbody>\n",
       "</table>\n"
      ],
      "text/latex": [
       "A data.frame: 6 × 9\n",
       "\\begin{tabular}{r|lllllllll}\n",
       "  & sex & age & suicides.no & population & hdi.for.year & gdp.for.year & gdp.per.capita & generation & high.rate\\\\\n",
       "  & <fct> & <ord> & <int> & <int> & <dbl> & <dbl> & <int> & <fct> & <fct>\\\\\n",
       "\\hline\n",
       "\t73 & male   & 25-34 years & 13 & 232900 & 0.619 & 2424499009 & 835 & Generation X    & No\\\\\n",
       "\t74 & male   & 55-74 years &  9 & 178000 & 0.619 & 2424499009 & 835 & Silent          & No\\\\\n",
       "\t75 & female & 75+ years   &  2 &  40800 & 0.619 & 2424499009 & 835 & G.I. Generation & No\\\\\n",
       "\t76 & female & 15-24 years & 13 & 283500 & 0.619 & 2424499009 & 835 & Generation X    & No\\\\\n",
       "\t77 & male   & 15-24 years & 11 & 241200 & 0.619 & 2424499009 & 835 & Generation X    & No\\\\\n",
       "\t78 & male   & 75+ years   &  1 &  25100 & 0.619 & 2424499009 & 835 & G.I. Generation & No\\\\\n",
       "\\end{tabular}\n"
      ],
      "text/markdown": [
       "\n",
       "A data.frame: 6 × 9\n",
       "\n",
       "| <!--/--> | sex &lt;fct&gt; | age &lt;ord&gt; | suicides.no &lt;int&gt; | population &lt;int&gt; | hdi.for.year &lt;dbl&gt; | gdp.for.year &lt;dbl&gt; | gdp.per.capita &lt;int&gt; | generation &lt;fct&gt; | high.rate &lt;fct&gt; |\n",
       "|---|---|---|---|---|---|---|---|---|---|\n",
       "| 73 | male   | 25-34 years | 13 | 232900 | 0.619 | 2424499009 | 835 | Generation X    | No |\n",
       "| 74 | male   | 55-74 years |  9 | 178000 | 0.619 | 2424499009 | 835 | Silent          | No |\n",
       "| 75 | female | 75+ years   |  2 |  40800 | 0.619 | 2424499009 | 835 | G.I. Generation | No |\n",
       "| 76 | female | 15-24 years | 13 | 283500 | 0.619 | 2424499009 | 835 | Generation X    | No |\n",
       "| 77 | male   | 15-24 years | 11 | 241200 | 0.619 | 2424499009 | 835 | Generation X    | No |\n",
       "| 78 | male   | 75+ years   |  1 |  25100 | 0.619 | 2424499009 | 835 | G.I. Generation | No |\n",
       "\n"
      ],
      "text/plain": [
       "   sex    age         suicides.no population hdi.for.year gdp.for.year\n",
       "73 male   25-34 years 13          232900     0.619        2424499009  \n",
       "74 male   55-74 years  9          178000     0.619        2424499009  \n",
       "75 female 75+ years    2           40800     0.619        2424499009  \n",
       "76 female 15-24 years 13          283500     0.619        2424499009  \n",
       "77 male   15-24 years 11          241200     0.619        2424499009  \n",
       "78 male   75+ years    1           25100     0.619        2424499009  \n",
       "   gdp.per.capita generation      high.rate\n",
       "73 835            Generation X    No       \n",
       "74 835            Silent          No       \n",
       "75 835            G.I. Generation No       \n",
       "76 835            Generation X    No       \n",
       "77 835            Generation X    No       \n",
       "78 835            G.I. Generation No       "
      ]
     },
     "metadata": {},
     "output_type": "display_data"
    }
   ],
   "source": [
    "#install.packages(caret)\n",
    "\n",
    "library(caret)\n",
    "\n",
    "quant3 <- quantile(hdi.df$suicides.100k.pop, 0.75)\n",
    "hdi.df$high.rate <- ifelse(hdi.df$suicides.100k.pop > quant3, \"Yes\", \"No\")\n",
    "hdi.df$high.rate <- factor(hdi.df$high.rate)\n",
    "hdi.df[c(\"country\", \"year\", \"suicides.100k.pop\", \"country.year\")] <- NULL\n",
    "\n",
    "head(hdi.df)"
   ]
  },
  {
   "cell_type": "code",
   "execution_count": 21,
   "metadata": {
    "scrolled": true
   },
   "outputs": [
    {
     "name": "stdout",
     "output_type": "stream",
     "text": [
      "n= 6692 \n",
      "\n",
      "node), split, n, loss, yval, (yprob)\n",
      "      * denotes terminal node\n",
      "\n",
      "  1) root 6692 1673 No (0.75000000 0.25000000)  \n",
      "    2) sex=female 3341  204 No (0.93894044 0.06105956) *\n",
      "    3) sex=male 3351 1469 No (0.56162340 0.43837660)  \n",
      "      6) suicides.no< 48.5 1649  347 No (0.78956944 0.21043056)  \n",
      "       12) population>=190676.5 725   10 No (0.98620690 0.01379310) *\n",
      "       13) population< 190676.5 924  337 No (0.63528139 0.36471861)  \n",
      "         26) suicides.no< 3.5 508   47 No (0.90748031 0.09251969) *\n",
      "         27) suicides.no>=3.5 416  126 Yes (0.30288462 0.69711538)  \n",
      "           54) suicides.no< 15.5 240  115 Yes (0.47916667 0.52083333)  \n",
      "            108) population>=45716 122   21 No (0.82786885 0.17213115) *\n",
      "            109) population< 45716 118   14 Yes (0.11864407 0.88135593) *\n",
      "           55) suicides.no>=15.5 176   11 Yes (0.06250000 0.93750000) *\n",
      "      7) suicides.no>=48.5 1702  580 Yes (0.34077556 0.65922444)  \n",
      "       14) population>=438249 1332  570 Yes (0.42792793 0.57207207)  \n",
      "         28) suicides.no< 89.5 187   16 No (0.91443850 0.08556150) *\n",
      "         29) suicides.no>=89.5 1145  399 Yes (0.34847162 0.65152838)  \n",
      "           58) hdi.for.year< 0.7625 411  169 No (0.58880779 0.41119221)  \n",
      "            116) population>=1136953 317   87 No (0.72555205 0.27444795)  \n",
      "              232) gdp.for.year>=1.780419e+11 162   15 No (0.90740741 0.09259259) *\n",
      "              233) gdp.for.year< 1.780419e+11 155   72 No (0.53548387 0.46451613)  \n",
      "                466) suicides.no< 523.5 94   17 No (0.81914894 0.18085106) *\n",
      "                467) suicides.no>=523.5 61    6 Yes (0.09836066 0.90163934) *\n",
      "            117) population< 1136953 94   12 Yes (0.12765957 0.87234043) *\n",
      "           59) hdi.for.year>=0.7625 734  157 Yes (0.21389646 0.78610354) *\n",
      "       15) population< 438249 370   10 Yes (0.02702703 0.97297297) *\n"
     ]
    },
    {
     "data": {
      "image/png": "[encoded data removed]",
      "text/plain": [
       "plot without title"
      ]
     },
     "metadata": {
      "image/png": {
       "height": 420,
       "width": 420
      }
     },
     "output_type": "display_data"
    }
   ],
   "source": [
    "train.indices <- createDataPartition(hdi.df$high.rate, p=0.8, list=FALSE)\n",
    "train.data3 <- hdi.df[train.indices, ]\n",
    "test.data <- hdi.df[-train.indices, ]\n",
    "\n",
    "tree3 <-rpart(high.rate ~. , train.data3, method = \"class\")\n",
    "print(tree3)\n",
    "rpart.plot(tree3)"
   ]
  },
  {
   "cell_type": "code",
   "execution_count": 22,
   "metadata": {
    "scrolled": true
   },
   "outputs": [],
   "source": [
    "#S obzirom da je stablo veliko te se plot ne vidi dobro, kod ispod pravi čitljivu sliku.\n",
    "#png(\"FinalClassTree1.png\", width=1280, height=960)\n",
    "#rpart.plot(tree3)\n",
    "#dev.off()\n"
   ]
  },
  {
   "cell_type": "code",
   "execution_count": 23,
   "metadata": {
    "scrolled": true
   },
   "outputs": [
    {
     "data": {
      "text/plain": [
       "     predicted\n",
       "true    No  Yes\n",
       "  No  1191   63\n",
       "  Yes   87  331"
      ]
     },
     "metadata": {},
     "output_type": "display_data"
    }
   ],
   "source": [
    "tree3.pred <- predict(tree3, test.data, type = \"class\")\n",
    "tree3.cm <- table(true = test.data$high.rate, predicted = tree3.pred)\n",
    "tree3.cm"
   ]
  },
  {
   "cell_type": "code",
   "execution_count": 24,
   "metadata": {},
   "outputs": [
    {
     "data": {
      "text/html": [
       "<style>\n",
       ".dl-inline {width: auto; margin:0; padding: 0}\n",
       ".dl-inline>dt, .dl-inline>dd {float: none; width: auto; display: inline-block}\n",
       ".dl-inline>dt::after {content: \":\\0020\"; padding-right: .5ex}\n",
       ".dl-inline>dt:not(:first-of-type) {padding-left: .5ex}\n",
       "</style><dl class=dl-inline><dt>accuracy</dt><dd>0.910287081339713</dd><dt>precision</dt><dd>0.84010152284264</dd><dt>recall</dt><dd>0.791866028708134</dd><dt>F1</dt><dd>0.815270935960591</dd></dl>\n"
      ],
      "text/latex": [
       "\\begin{description*}\n",
       "\\item[accuracy] 0.910287081339713\n",
       "\\item[precision] 0.84010152284264\n",
       "\\item[recall] 0.791866028708134\n",
       "\\item[F1] 0.815270935960591\n",
       "\\end{description*}\n"
      ],
      "text/markdown": [
       "accuracy\n",
       ":   0.910287081339713precision\n",
       ":   0.84010152284264recall\n",
       ":   0.791866028708134F1\n",
       ":   0.815270935960591\n",
       "\n"
      ],
      "text/plain": [
       " accuracy precision    recall        F1 \n",
       "0.9102871 0.8401015 0.7918660 0.8152709 "
      ]
     },
     "metadata": {},
     "output_type": "display_data"
    }
   ],
   "source": [
    "compute.eval.metrics <- function(cmatrix) {\n",
    "TP <- cmatrix[2,2]\n",
    "TN <- cmatrix[1,1] \n",
    "FP <- cmatrix[1,2]\n",
    "FN <- cmatrix[2,1]\n",
    "acc <- sum(diag(cmatrix)) / sum(cmatrix)\n",
    "precision <- TP / (TP + FP)\n",
    "recall <- TP / (TP + FN)\n",
    "F1 <- 2*precision*recall / (precision + recall)\n",
    "c(accuracy = acc, precision = precision, recall = recall, F1 = F1)}\n",
    "\n",
    "tree3.eval <- compute.eval.metrics(tree3.cm)\n",
    "tree3.eval"
   ]
  },
  {
   "cell_type": "markdown",
   "metadata": {},
   "source": [
    "                                               Zaključak\n",
    "\n",
    "  Na osnovu ovih mera možemo zaključiti da ovaj model nije dovoljno precizan. Na osnovu Recall mere (339/339+79) vidimo da je model čak 79 pozitivnih vrednosti prediktovao kao negativne ili približno 19%. Druga mera, Precision (339/339+33) nam govori da je model 33 negativne vrednosti prediktovao kao pozitivne ili približno 9%. Zaključak je da je model sklon da realizovane pozitivne vrednosti lošije predviđa. U kontekstu ovih podataka u približno 19% slučajeva model je realizovanu visoku stopu suicida evaluirao kao nisku. \n",
    "\n",
    "  Razlog bi bili sami podaci. Naime varijable preko kojih želimo da prediktujemo neku drugu varijablu moraju da dele zajednički varijabilitet, odnosno da preko njih možemo da objasnimo varijablu čije vrednosti želimo da predviđamo.\n",
    "\n",
    "  U ovom slučaju, kao odgovor na 5. pitanje (od čega zavisi stopa suicida?) smo pokazali da stopa suicida ne zavisi od GDP-a, dok sa HDI-em postoji značajna korelacija iako je ona ipak slaba. Ukoliko pogledamo grafik stabla možemo videti da ono koristi za odlučivanje HDI i GDP (iako korelacije nema). Ipak, koristi ih za odlučivanje samo po jednom. Razlog zašto najviše koristi varijable \"suicides.no\" i \"population\" je logičan s obzirom da smo \"sucides.100k.pop\" izračunali preko prethodne dve varijable.\n",
    " \n",
    "  Upravo ova činjenica se i odražava na preciznost našeg modela. Da bi povećali preciznost modela (pri tom i odgovorili na 5. pitanje) morali bi da imamo neke dodatne varijable koje će bliže i bolje objašnjavati stopu suicida u državama.\n",
    " \n",
    "  Zanimljivo je primetiti da možemo intuitivno razumeti kako stablo odlučuje (koje varijable koristi) preko prethodnih pet pitanja tj. odgovora na njih (pokazano je da je stopa suicida daleko viša kod muškaraca, s toga stablo i kreće sa pitanjem o polu, gde slučajeve stope sucida za ženski pol uopšte i ne razmatra)."
   ]
  }
 ],
 "metadata": {
  "kernelspec": {
   "display_name": "R",
   "language": "R",
   "name": "ir"
  },
  "language_info": {
   "codemirror_mode": "r",
   "file_extension": ".r",
   "mimetype": "text/x-r-source",
   "name": "R",
   "pygments_lexer": "r",
   "version": "4.0.3"
  }
 },
 "nbformat": 4,
 "nbformat_minor": 4
}
